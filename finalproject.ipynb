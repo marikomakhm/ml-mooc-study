{
 "cells": [
  {
   "cell_type": "markdown",
   "metadata": {},
   "source": [
    "## Predicting student performance based on initial activity: a study in machine learning\n",
    "\n",
    "---\n",
    "_Mariko Makhmutova  \n",
    "Supervisor: Rudiger Urbanke  \n",
    "Information Processing Group, EPFL_\n",
    "\n",
    "---\n",
    "The purpose of this study is to see to what extent one can predict the performance of a MOOC user in a class based on their activity in the course during the first ten days of the course using a regression model. The data used for this project was provided by the EPFL Center for Digital Education."
   ]
  },
  {
   "cell_type": "code",
   "execution_count": 1,
   "metadata": {},
   "outputs": [],
   "source": [
    "import pymysql\n",
    "import pandas as pd\n",
    "import numpy as np\n",
    "import matplotlib.pyplot as plt\n",
    "from sklearn import datasets, linear_model, model_selection, metrics, preprocessing\n",
    "from sklearn.metrics import mean_squared_error, classification_report, confusion_matrix, accuracy_score\n",
    "from sklearn.linear_model import LogisticRegression\n",
    "from sklearn.model_selection import cross_validate\n",
    "import itertools"
   ]
  },
  {
   "cell_type": "markdown",
   "metadata": {},
   "source": [
    "### Data collection\n",
    "The input data comes from the Digital Signal Processing class on Coursera, EPFL's MOOC with the most students enrolled. The session for this course started on February 18, 2013. The cut-off date for the input values to our model is ten days after the official start of the course, so February 28, 2013."
   ]
  },
  {
   "cell_type": "code",
   "execution_count": 2,
   "metadata": {
    "collapsed": true
   },
   "outputs": [],
   "source": [
    "init_date = 1361145600\n",
    "cut_off = init_date + 60*60*24*10\n",
    "\n",
    "course = 'dsp-001'"
   ]
  },
  {
   "cell_type": "code",
   "execution_count": 3,
   "metadata": {},
   "outputs": [],
   "source": [
    "conn = pymysql.connect(host='****', user='****', password='****', db='semester_projects')\n",
    "cur = conn.cursor()\n",
    "video_info = (\"\"\"SELECT VideoID, Title, OpenTime\n",
    "                FROM semester_projects.mooc_coursera_video_info\n",
    "                WHERE DataPackageID='%s' AND OpenTime IS NOT NULL\n",
    "                AND VideoID IS NOT NULL AND OpenTime < %s\"\"\" % (course, str(cut_off)))\n",
    "user_videos = (\"\"\"SELECT SessionUserID, COUNT(DISTINCT VideoID) as 'VideosWatched'\n",
    "        FROM semester_projects.mooc_coursera_video_events\n",
    "        WHERE DataPackageID='%s' AND TimeStamp < %s\n",
    "        GROUP BY SessionUserID\n",
    "        \"\"\" % (course, str(cut_off)))\n",
    "user_assignments_all = (\"\"\"SELECT SessionUserID, TimeStamp, ProblemID, SubmissionNumber, Grade\n",
    "        FROM semester_projects.mooc_coursera_problem_events_with_info\n",
    "        WHERE DataPackageID='%s' AND Grade IS NOT NULL AND (ProblemID > 0)\n",
    "        \"\"\" % course)\n",
    "df_video_info = pd.read_sql(video_info, conn)\n",
    "df_user_videos = pd.read_sql(user_videos, conn)\n",
    "user_info = pd.read_sql(user_assignments_all, conn)\n",
    "conn.close()"
   ]
  },
  {
   "cell_type": "markdown",
   "metadata": {},
   "source": [
    "### Data processing\n",
    "#### Initial processing"
   ]
  },
  {
   "cell_type": "code",
   "execution_count": 4,
   "metadata": {
    "collapsed": true
   },
   "outputs": [],
   "source": [
    "# casting objects into known types\n",
    "def to_string(s):\n",
    "    return s.replace('\\x00', '')\n",
    "\n",
    "user_info['SessionUserID'] = user_info['SessionUserID'].apply(to_string).astype(str)\n",
    "user_info['ProblemID'] = user_info['ProblemID'].apply(to_string).astype(int)\n",
    "df_user_videos['SessionUserID'] = df_user_videos['SessionUserID'].apply(to_string).astype(str)"
   ]
  },
  {
   "cell_type": "markdown",
   "metadata": {},
   "source": [
    "Next, we calculate the maximum grade attained for each problem assigned. We take these grades as the maximum attainable grades, which we label as \"MaxGrade\". We only consider problems that have maximum grades between 3 and 100, to reduce the number of outliers.\n",
    "\n",
    "Again, to ignore outliers, we only consider problems that have at least a thousand submissions by the end of the entire course session. (There are some problems that have had less than five submissions, whereas the others have had 10000, so we want to ignore these.)"
   ]
  },
  {
   "cell_type": "code",
   "execution_count": 5,
   "metadata": {
    "collapsed": true
   },
   "outputs": [],
   "source": [
    "# calculating maximum grade obtained for all problems\n",
    "# NOTE: only keeping problems with maximum grades above or equal to 3\n",
    "problem_max = pd.DataFrame(user_info.groupby(['ProblemID'])['Grade'].max())\\\n",
    "    .reset_index().query('Grade >= 3 & Grade <= 100')\n",
    "problem_max = problem_max.rename(columns={'Grade': 'MaxGrade'})\n",
    "\n",
    "# to filter out computational errors from Coursera, we only look at submissions that have positive grades less than 100\n",
    "user_info = user_info.merge(problem_max, on='ProblemID', sort=False).query('Grade <= 100 & Grade >= 0')"
   ]
  },
  {
   "cell_type": "markdown",
   "metadata": {},
   "source": [
    "During the processing of data, I noticed that there can sometimes be a large disparity between the maximum attainable grades, which caused the mean grades to be more varied. To avoid this \"stretching\" of the data, I decided to calculate grades as percentages of the maximum attainable grade, which reduced the range of my grades and final means from (0, 100) to (0, 1)."
   ]
  },
  {
   "cell_type": "code",
   "execution_count": 6,
   "metadata": {
    "collapsed": true
   },
   "outputs": [],
   "source": [
    "# for the model, we are only taking into account problems that have had over 1000 submissions by the end of the course\n",
    "submissions_per_problem = user_info.groupby(['ProblemID'])['SessionUserID'].nunique().reset_index()\n",
    "problems = submissions_per_problem.query('SessionUserID >= 1000')['ProblemID'].values\n",
    "\n",
    "# filtering only relevant problems\n",
    "user_info = user_info[user_info['ProblemID'].isin(problems)]\n",
    "\n",
    "# calculating grades as a percentage of maximum attainable grade\n",
    "user_info['Percentage'] = (user_info['Grade'] / user_info['MaxGrade']).apply(lambda x: round(x, 3))"
   ]
  },
  {
   "cell_type": "code",
   "execution_count": 7,
   "metadata": {
    "collapsed": true
   },
   "outputs": [],
   "source": [
    "# filtering users who were active during the first week\n",
    "user_info_fw = user_info.query('TimeStamp < @cut_off')\n",
    "\n",
    "# activity timestamp not needed for future calculations\n",
    "user_info_fw = user_info_fw.drop('TimeStamp', axis=1)\n",
    "\n",
    "# filtering only problems assigned (submitted > 500 times) during the first week\n",
    "submissions_per_problem_fw = user_info_fw.groupby(['ProblemID'])['SessionUserID'].nunique().reset_index()\n",
    "problems_fw = submissions_per_problem_fw.query('SessionUserID > 500')['ProblemID'].values\n",
    "user_info_fw = user_info_fw[user_info_fw['ProblemID'].isin(problems_fw)]"
   ]
  },
  {
   "cell_type": "markdown",
   "metadata": {},
   "source": [
    "Since the purpose of this project is to predict a user's success based on their activity during the first week, we will only be looking at the users that were active during the first week of the course."
   ]
  },
  {
   "cell_type": "code",
   "execution_count": 8,
   "metadata": {
    "collapsed": true
   },
   "outputs": [],
   "source": [
    "users = np.array(user_info['SessionUserID'].unique())"
   ]
  },
  {
   "cell_type": "markdown",
   "metadata": {},
   "source": [
    "Next, we create a dataframe to store the grades of every student for every assignment - this way, we account for the assignments that have not had any submissions by a given student. We repeat this for the first week."
   ]
  },
  {
   "cell_type": "code",
   "execution_count": 9,
   "metadata": {
    "collapsed": true
   },
   "outputs": [],
   "source": [
    "assignment_grades = pd.DataFrame(user_info.groupby(['SessionUserID', 'ProblemID'])['Percentage'].max()).reset_index()\n",
    "\n",
    "user_grades = pd.DataFrame({'SessionUserID': np.repeat(users, len(problems)),\n",
    "          'ProblemID': np.tile(problems, len(users)),\n",
    "          'Percentage': np.zeros(len(users) * len(problems))})\n",
    "\n",
    "user_grades.update(assignment_grades)"
   ]
  },
  {
   "cell_type": "code",
   "execution_count": 10,
   "metadata": {
    "collapsed": true
   },
   "outputs": [],
   "source": [
    "assignment_grades_fw = assignment_grades[assignment_grades['ProblemID'].isin(problems_fw)]\n",
    "\n",
    "user_grades_fw = pd.DataFrame({'SessionUserID': np.repeat(users, len(problems_fw)),\n",
    "          'ProblemID': np.tile(problems_fw, len(users)),\n",
    "          'Percentage': np.zeros(len(users) * len(problems_fw))})\n",
    "user_grades_fw.update(assignment_grades_fw)"
   ]
  },
  {
   "cell_type": "markdown",
   "metadata": {},
   "source": [
    "##### Model input and output variables\n",
    "\n",
    "The input variables are the following three measurements:\n",
    "- the number of assignment submissions per user\n",
    "- the user's average grade (taking into account only the problems available during the ten days of the course)\n",
    "- the number of videos the user has watched so far\n",
    "\n",
    "The output is a boolean value that indicates whether a user has passed the course or not, based on the final average grade (0 to 1), with a passing grade at 65%."
   ]
  },
  {
   "cell_type": "code",
   "execution_count": 11,
   "metadata": {
    "collapsed": true
   },
   "outputs": [],
   "source": [
    "# creating input dataframe of user statistics for ML model\n",
    "# adding number of submissions\n",
    "user_stats = pd.DataFrame({'Submissions': user_info_fw.groupby('SessionUserID').size(),\n",
    "                          'InitAverage': np.nan})\n",
    "\n",
    "# adding user first week averages\n",
    "means = pd.DataFrame.from_dict(data=user_grades_fw.groupby('SessionUserID')['Percentage'].mean())\n",
    "means = means.rename(columns={'Percentage': 'InitAverage'})\n",
    "user_stats['InitAverage'] = user_stats.combine_first(means).apply(lambda x: round(x, 3))\n",
    "\n",
    "# adding number of videos watched\n",
    "user_stats = pd.merge(user_stats.reset_index(), df_user_videos, sort=False).dropna()\n",
    "\n",
    "# calculating final average grade\n",
    "user_grades = user_grades.drop('ProblemID', axis=1)\n",
    "final_averages = pd.DataFrame(user_grades.groupby('SessionUserID')['Percentage'].mean()).reset_index()\n",
    "final_averages = final_averages.rename(columns={'Percentage': 'FinalAverage'})\n",
    "\n",
    "# adding final average grade\n",
    "user_stats = pd.merge(user_stats, final_averages, sort=False)\n",
    "user_stats['FinalAverage'] = user_stats['FinalAverage'].apply(lambda x: round(x, 3))"
   ]
  },
  {
   "cell_type": "code",
   "execution_count": 12,
   "metadata": {
    "collapsed": true
   },
   "outputs": [],
   "source": [
    "# SessionUserID is no longer needed\n",
    "user_stats = user_stats.drop('SessionUserID', axis=1)"
   ]
  },
  {
   "cell_type": "markdown",
   "metadata": {},
   "source": [
    "#### Data visualization\n",
    "We now visualize our three input variables to see how they are distributed and to detect any obvious outliers visually."
   ]
  },
  {
   "cell_type": "code",
   "execution_count": 13,
   "metadata": {
    "collapsed": true
   },
   "outputs": [],
   "source": [
    "# save initial user stats for model comparison\n",
    "user_stats_init = user_stats.copy()"
   ]
  },
  {
   "cell_type": "code",
   "execution_count": 14,
   "metadata": {
    "collapsed": true
   },
   "outputs": [],
   "source": [
    "plt.style.use('ggplot')\n",
    "%matplotlib inline"
   ]
  },
  {
   "cell_type": "code",
   "execution_count": 15,
   "metadata": {},
   "outputs": [
    {
     "data": {
      "text/plain": [
       "InitAverage         Axes(0.125,0.125;0.227941x0.755)\n",
       "Submissions      Axes(0.398529,0.125;0.227941x0.755)\n",
       "VideosWatched    Axes(0.672059,0.125;0.227941x0.755)\n",
       "dtype: object"
      ]
     },
     "execution_count": 15,
     "metadata": {},
     "output_type": "execute_result"
    },
    {
     "data": {
      "image/png": "[encoded data removed]",
      "text/plain": [
       "<matplotlib.figure.Figure at 0x1b4547e96d8>"
      ]
     },
     "metadata": {},
     "output_type": "display_data"
    }
   ],
   "source": [
    "user_stats.drop('FinalAverage', axis=1).plot(kind='box', subplots=True)"
   ]
  },
  {
   "cell_type": "markdown",
   "metadata": {},
   "source": [
    "Here, we can see that there are clearly outliers in the Submissions and VideosWatched variables. We want to see how the data distribution changes for these two variables if we remove the users that have either submitted over 20 times or have watched over 20 videos."
   ]
  },
  {
   "cell_type": "code",
   "execution_count": 16,
   "metadata": {
    "collapsed": true
   },
   "outputs": [],
   "source": [
    "user_stats = user_stats.query('Submissions < 20 & VideosWatched < 20')"
   ]
  },
  {
   "cell_type": "code",
   "execution_count": 17,
   "metadata": {},
   "outputs": [
    {
     "data": {
      "text/plain": [
       "<matplotlib.axes._subplots.AxesSubplot at 0x1b454677f60>"
      ]
     },
     "execution_count": 17,
     "metadata": {},
     "output_type": "execute_result"
    },
    {
     "data": {
      "image/png": "[encoded data removed]",
      "text/plain": [
       "<matplotlib.figure.Figure at 0x1b4544952e8>"
      ]
     },
     "metadata": {},
     "output_type": "display_data"
    }
   ],
   "source": [
    "user_stats.drop(['InitAverage', 'FinalAverage'], axis=1).plot(kind='density')"
   ]
  },
  {
   "cell_type": "markdown",
   "metadata": {},
   "source": [
    "Removing the outliers has has resulted in a neater distribution of the VideosWatched variable.\n",
    "\n",
    "We notice, however, that the Submissions variable graph is highly concentrated around 1. This is problematic, as having at least half of the training set have a constant Submissions value will not train the model efficiently. To avoid having a relatively constant input variable, we will ignore all users that have submitted an assignment only once during the first ten days of the course. This leaves us with a total of 7344 users to train and test the model."
   ]
  },
  {
   "cell_type": "code",
   "execution_count": 18,
   "metadata": {
    "collapsed": true
   },
   "outputs": [],
   "source": [
    "user_stats = user_stats.query('Submissions > 1')"
   ]
  },
  {
   "cell_type": "markdown",
   "metadata": {},
   "source": [
    "Before we standardize our variables and train our model, we verify that the input values are all well-distributed without any obvious issues in the data."
   ]
  },
  {
   "cell_type": "code",
   "execution_count": 19,
   "metadata": {},
   "outputs": [
    {
     "data": {
      "text/plain": [
       "InitAverage         Axes(0.125,0.125;0.227941x0.755)\n",
       "Submissions      Axes(0.398529,0.125;0.227941x0.755)\n",
       "VideosWatched    Axes(0.672059,0.125;0.227941x0.755)\n",
       "dtype: object"
      ]
     },
     "execution_count": 19,
     "metadata": {},
     "output_type": "execute_result"
    },
    {
     "data": {
      "image/png": "[encoded data removed]",
      "text/plain": [
       "<matplotlib.figure.Figure at 0x1b4545c0390>"
      ]
     },
     "metadata": {},
     "output_type": "display_data"
    }
   ],
   "source": [
    "user_stats.drop('FinalAverage', axis=1).plot(kind='box', subplots=True)"
   ]
  },
  {
   "cell_type": "markdown",
   "metadata": {},
   "source": [
    "#### Standardizing variables\n",
    "We will be constructing a logistic regression model from our data, so in order to reduce the variation in the model's weights of the variables, we manipulate them to look like a standard normal distribution."
   ]
  },
  {
   "cell_type": "code",
   "execution_count": 20,
   "metadata": {
    "collapsed": true
   },
   "outputs": [],
   "source": [
    "def standardize(col):\n",
    "    return (col - col.mean()) / col.std()\n",
    "\n",
    "for col in user_stats.columns[:-1]:\n",
    "    user_stats[col] = standardize(user_stats[col])"
   ]
  },
  {
   "cell_type": "markdown",
   "metadata": {},
   "source": [
    "#### Calculating output variable\n",
    "Predicting a user's final grade percentage is difficult without hundreds of thousands of input values, so we reduced the problem to seeing whether a user passes or not, setting the passing mark at the final average being greater than or equal to 65%."
   ]
  },
  {
   "cell_type": "code",
   "execution_count": 21,
   "metadata": {
    "collapsed": true
   },
   "outputs": [],
   "source": [
    "# adding pass result\n",
    "user_stats['Pass'] = user_stats['FinalAverage'].apply(lambda x: x >= 0.65)"
   ]
  },
  {
   "cell_type": "markdown",
   "metadata": {},
   "source": [
    "### Training a model\n",
    "Now that our input variables have been parsed, cleaned and standardized, and we have established our boolean output variable, we are ready to train our model. We train the model on a set of 5344 inputs, and keep 2000 inputs as a test for our model."
   ]
  },
  {
   "cell_type": "code",
   "execution_count": 22,
   "metadata": {
    "collapsed": true
   },
   "outputs": [],
   "source": [
    "input_variables = ['Submissions', 'InitAverage', 'VideosWatched']\n",
    "data_X = user_stats.as_matrix(columns=input_variables)\n",
    "\n",
    "test_size = 2000\n",
    "data_X_train = data_X[:-test_size]\n",
    "data_X_test = data_X[-test_size:]\n",
    "\n",
    "data_y = (user_stats['Pass']).astype(int)\n",
    "\n",
    "data_y_train = data_y[:-test_size]\n",
    "data_y_test = data_y[-test_size:]"
   ]
  },
  {
   "cell_type": "code",
   "execution_count": 23,
   "metadata": {},
   "outputs": [
    {
     "name": "stdout",
     "output_type": "stream",
     "text": [
      "Logistic regression cross-validation accuracy (standard deviation): 0.7510 (0.0163)\n",
      "Test accuracy score: 0.7435\n",
      "Model coefficients: submissions 0.478379, mean 0.386199, videos watched 0.365001\n",
      "[-1.15555581]\n",
      "Number of people who pass in predictions from test: 181\n",
      "Actual number of people who pass in test: 536\n",
      "Predict pass, but fail: 79\n",
      "Predict fail, but pass: 434\n"
     ]
    }
   ],
   "source": [
    "model = LogisticRegression()\n",
    "\n",
    "kfold = model_selection.KFold(n_splits=10)\n",
    "model.fit(data_X_train, data_y_train)\n",
    "cv_results = model_selection.cross_val_score(model, data_X, data_y, cv=kfold)\n",
    "msg = \"%s: %.4f (%.4f)\" % (\"Logistic regression cross-validation accuracy (standard deviation)\",\n",
    "                           cv_results.mean(), cv_results.std())\n",
    "print(msg)\n",
    "expected = data_y_test\n",
    "predicted = model.predict(data_X_test)\n",
    "print(\"Test accuracy score: %.4f\" % metrics.accuracy_score(expected, predicted))\n",
    "coef = model.coef_[0]\n",
    "print(\"Model coefficients: submissions %f, mean %f, videos watched %f\" % (coef[0], coef[1], coef[2]))\n",
    "print(model.intercept_)\n",
    "print(\"Number of people who pass in predictions from test: %d\" % np.count_nonzero(predicted))\n",
    "print(\"Actual number of people who pass in test: %d\" % np.count_nonzero(expected))\n",
    "print(\"Predict pass, but fail: %d\" % np.greater(predicted, expected).sum())\n",
    "print(\"Predict fail, but pass: %d\" % np.less(predicted, expected).sum())"
   ]
  },
  {
   "cell_type": "markdown",
   "metadata": {},
   "source": [
    "### Conclusion\n",
    "\n",
    "The goal of this project was to study to what extent we are able to predict a user's success in a MOOC based on how they interact with the online platform in the first ten days of a course session, by creating and training a regression model. It was unclear as to whether a clear conclusion could be reached from the very beginning, considering that MOOCs generally have a passing rate of approximately 15%, as studied by Dr Katy Jordan, during her doctoral studies at Open University.\n",
    "\n",
    "Through some data analysis and cleanup, 7344 users with a more \"normal\" behaviour were used to train and test a logistic regression model. The reason for the use of a logistic regression model is that it shows a clear relationship between the input and the output variables whilst providing a relatively accurate model. Other, more complicated, models have also been tested throughout the course of this project, and the logistic regression model performed just as well, if not better than most.\n",
    "\n",
    "The resulting model provides a 75% accuracy model that generally predicts that fewer people pass than the actual number of people that do. From the model coefficients, it can be deduced that the number of submissions per user is the highest factor in determining whether a student passes or not, but all of the factors have coefficients of the same order, so the difference in importance is rather small - all of the factors affect a user's passing grade.\n",
    "\n",
    "An improvement for this project would be to use a larger training set, which could be done by analysing a course with even more users or by training the model on users from different courses, in an attempt to get more accurate predictions. Another way to increase the accuracy of the model would be to consider the measure of a user's success as multidimensional by, for example, taking into account the number of videos a user has watched by the end of the course as well as their final average. Giving different weights to each of the measures of success could give more accurate predictions.\n",
    "\n",
    "In conclusion, the resulting model can predict the success of a MOOC user only to a certain extent. This shows that one cannot accurately predict whether a user will pass a course or not based on how active they are in the beginning. A possibility for a future experiment would be to see whether users who work consistently throughout the course succeed better than those who work sporadically, or to see whether we can predict the success of students based on what time of day they are active on the course."
   ]
  },
  {
   "cell_type": "markdown",
   "metadata": {},
   "source": [
    "### Appendices\n",
    "#### Appendix 1\n",
    "Comparing unprocessed data to processed data, and saying that even though the accuracy score is higher, the model is less able to predict outcomes, because it suppposes that the passing rate in the test case is at 95%, when the actual passing rate is about 15% with the unprocessed data."
   ]
  },
  {
   "cell_type": "code",
   "execution_count": 24,
   "metadata": {},
   "outputs": [
    {
     "name": "stdout",
     "output_type": "stream",
     "text": [
      "Logistic regression cross-validation accuracy (standard deviation): 0.8588 (0.0065)\n",
      "Test accuracy score: 0.2018\n",
      "Model coefficients: submissions 0.154611, mean 2.368289, videos watched 0.116055\n",
      "Number of people who pass in predictions from test: 3783\n",
      "Actual number of people who pass in test: 596\n",
      "Predict pass, but fail: 3190\n",
      "Predict fail, but pass: 3\n"
     ]
    }
   ],
   "source": [
    "user_stats_init['Pass'] = user_stats_init['FinalAverage'].apply(lambda x: x >= 0.65)\n",
    "\n",
    "data_X_init = user_stats_init.as_matrix(columns=['Submissions', 'InitAverage', 'VideosWatched'])\n",
    "\n",
    "test_size = 4000\n",
    "data_X_train_init = data_X_init[:-test_size]\n",
    "data_X_test_init = data_X_init[-test_size:]\n",
    "\n",
    "data_y_init = (user_stats_init['Pass']).astype(int)\n",
    "\n",
    "data_y_train_init = data_y_init[:-test_size]\n",
    "data_y_test_init = data_y_init[-test_size:]\n",
    "\n",
    "model_init = LogisticRegression()\n",
    "\n",
    "model_init.fit(data_X_train_init, data_y_train_init)\n",
    "cv_results_init = model_selection.cross_val_score(model_init, data_X_init, data_y_init, cv=kfold)\n",
    "msg = \"%s: %.4f (%.4f)\" % (\"Logistic regression cross-validation accuracy (standard deviation)\",\n",
    "                           cv_results_init.mean(), cv_results_init.std())\n",
    "print(msg)\n",
    "expected_init = data_y_test_init\n",
    "predicted_init = model.predict(data_X_test_init)\n",
    "print(\"Test accuracy score: %.4f\" % metrics.accuracy_score(expected_init, predicted_init))\n",
    "coef_init = model_init.coef_[0]\n",
    "print(\"Model coefficients: submissions %f, mean %f, videos watched %f\" % (coef_init[0], coef_init[1], coef_init[2]))\n",
    "print(\"Number of people who pass in predictions from test: %d\" % np.count_nonzero(predicted_init))\n",
    "print(\"Actual number of people who pass in test: %d\" % np.count_nonzero(expected_init))\n",
    "print(\"Predict pass, but fail: %d\" % np.greater(predicted_init, expected_init).sum())\n",
    "print(\"Predict fail, but pass: %d\" % np.less(predicted_init, expected_init).sum())"
   ]
  },
  {
   "cell_type": "markdown",
   "metadata": {},
   "source": [
    "#### Appendix 2\n",
    "We also compare the results of the logistic regression model on all the possible combinations of input variables possible. We can see in the results of the computed models, that there is a clear amelioration in predictions with more variables being taken into account, with the number of submissions being the most conclusive single input variable. As we deduced from the three input variable model, the number of submissions in the first days of the course plays a big role in whether a student passes the course or not. "
   ]
  },
  {
   "cell_type": "code",
   "execution_count": 25,
   "metadata": {},
   "outputs": [
    {
     "name": "stdout",
     "output_type": "stream",
     "text": [
      "Testing for inputs: ('Submissions',)\n",
      "Cross-validation accuracy (standard deviation): 0.7428 (0.0150)\n",
      "Test accuracy score: 0.7350\n",
      "Testing for inputs: ('InitAverage',)\n",
      "Cross-validation accuracy (standard deviation): 0.7360 (0.0167)\n",
      "Test accuracy score: 0.7320\n",
      "Testing for inputs: ('VideosWatched',)\n",
      "Cross-validation accuracy (standard deviation): 0.7360 (0.0167)\n",
      "Test accuracy score: 0.7320\n",
      "Testing for inputs: ('Submissions', 'InitAverage')\n",
      "Cross-validation accuracy (standard deviation): 0.7461 (0.0116)\n",
      "Test accuracy score: 0.7390\n",
      "Testing for inputs: ('Submissions', 'VideosWatched')\n",
      "Cross-validation accuracy (standard deviation): 0.7471 (0.0150)\n",
      "Test accuracy score: 0.7370\n",
      "Testing for inputs: ('InitAverage', 'VideosWatched')\n",
      "Cross-validation accuracy (standard deviation): 0.7416 (0.0105)\n",
      "Test accuracy score: 0.7380\n"
     ]
    }
   ],
   "source": [
    "kfold = model_selection.KFold(n_splits=10)\n",
    "test_size = 2000\n",
    "\n",
    "for r in range(1, 3):\n",
    "    for permutation in itertools.combinations(input_variables, r):\n",
    "        data_X = user_stats.as_matrix(columns=permutation)\n",
    "        \n",
    "        data_X_train = data_X[:-test_size]\n",
    "        data_X_test = data_X[-test_size:]\n",
    "        \n",
    "        data_y = (user_stats['Pass']).astype(int)\n",
    "        data_y_train = data_y[:-test_size]\n",
    "        data_y_test = data_y[-test_size:]\n",
    "        \n",
    "        model = LogisticRegression()\n",
    "        model.fit(data_X_train, data_y_train)\n",
    "        cv_results = model_selection.cross_val_score(model, data_X, data_y, cv=kfold)\n",
    "        print(\"Testing for inputs: %s\" % (str(permutation)))\n",
    "        msg = \"%s: %.4f (%.4f)\" % (\"Cross-validation accuracy (standard deviation)\",\n",
    "                                   cv_results.mean(), cv_results.std())\n",
    "        print(msg)\n",
    "        expected = data_y_test\n",
    "        predicted = model.predict(data_X_test)\n",
    "        print(\"Test accuracy score: %.4f\" % metrics.accuracy_score(expected, predicted))"
   ]
  }
 ],
 "metadata": {
  "kernelspec": {
   "display_name": "Python 3",
   "language": "python",
   "name": "python3"
  },
  "language_info": {
   "codemirror_mode": {
    "name": "ipython",
    "version": 3
   },
   "file_extension": ".py",
   "mimetype": "text/x-python",
   "name": "python",
   "nbconvert_exporter": "python",
   "pygments_lexer": "ipython3",
   "version": "3.6.1"
  }
 },
 "nbformat": 4,
 "nbformat_minor": 2
}
